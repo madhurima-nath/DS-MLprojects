{
 "cells": [
  {
   "cell_type": "code",
   "execution_count": 1,
   "metadata": {},
   "outputs": [],
   "source": [
    "# Generate some random data points as dependent variable (y) and independent variable (x)\n",
    "x = c(151, 174, 138, 183, 128, 136, 177, 163, 152, 131)\n",
    "y = c(61, 81, 56, 91, 47, 55, 76, 72, 62, 58)"
   ]
  },
  {
   "cell_type": "code",
   "execution_count": 2,
   "metadata": {},
   "outputs": [
    {
     "name": "stdout",
     "output_type": "stream",
     "text": [
      "\n",
      "Call:\n",
      "lm(formula = y ~ x)\n",
      "\n",
      "Coefficients:\n",
      "(Intercept)            x  \n",
      "   -33.6876       0.6496  \n",
      "\n"
     ]
    }
   ],
   "source": [
    "relation <- lm(y~x)\n",
    "\n",
    "print(relation)"
   ]
  },
  {
   "cell_type": "code",
   "execution_count": 3,
   "metadata": {},
   "outputs": [
    {
     "data": {
      "image/png": "[encoded data removed]",
      "text/plain": [
       "Plot with title \"Linear Regression Example\""
      ]
     },
     "metadata": {},
     "output_type": "display_data"
    }
   ],
   "source": [
    "# Plot the relation\n",
    "\n",
    "plot(x, y, col = 'blue', main = 'Linear Regression Example', \n",
    "abline(lm(y~x)),cex = 1, pch = 16, xlab = 'x', ylab = 'y')"
   ]
  },
  {
   "cell_type": "code",
   "execution_count": 4,
   "metadata": {},
   "outputs": [
    {
     "name": "stdout",
     "output_type": "stream",
     "text": [
      "\n",
      "Call:\n",
      "lm(formula = y ~ x)\n",
      "\n",
      "Residuals:\n",
      "   Min     1Q Median     3Q    Max \n",
      "-5.296 -2.908 -0.081  1.324  6.587 \n",
      "\n",
      "Coefficients:\n",
      "             Estimate Std. Error t value Pr(>|t|)    \n",
      "(Intercept) -33.68758   10.51423  -3.204   0.0125 *  \n",
      "x             0.64963    0.06806   9.545  1.2e-05 ***\n",
      "---\n",
      "Signif. codes:  0 '***' 0.001 '**' 0.01 '*' 0.05 '.' 0.1 ' ' 1\n",
      "\n",
      "Residual standard error: 4.109 on 8 degrees of freedom\n",
      "Multiple R-squared:  0.9193,\tAdjusted R-squared:  0.9092 \n",
      "F-statistic:  91.1 on 1 and 8 DF,  p-value: 1.201e-05\n",
      "\n"
     ]
    }
   ],
   "source": [
    "print(summary(relation))"
   ]
  },
  {
   "cell_type": "code",
   "execution_count": 5,
   "metadata": {},
   "outputs": [
    {
     "name": "stdout",
     "output_type": "stream",
     "text": [
      "        1         2         3 \n",
      "-25.89207  11.13658  57.25998 \n"
     ]
    }
   ],
   "source": [
    "new_data = data.frame(x = c(12, 69, 140))\n",
    "result = predict(relation, new_data)\n",
    "print(result)"
   ]
  },
  {
   "cell_type": "markdown",
   "metadata": {},
   "source": [
    "\n",
    "over-fitting\n",
    "sensitive to outliers\n",
    "\n",
    "computationally expensive, for large data\n",
    "What happens to coefficients $\\beta_0$ and $\\beta_1$ if one of the $x_i$'s are scaled?\n",
    "What happens to coefficients $\\beta_0$ and $\\beta_1$ if all $x_i$'s are scaled? Do they remain same as the original one?\n",
    "How to check if the data is normally distributed?\n",
    "How to check for linear independence of the data?\n",
    "If only one $x_i$ is scaled, then (see example).\n",
    "If all $x_i$'s are scaled, then there is no change in the result (see example)."
   ]
  },
  {
   "cell_type": "markdown",
   "metadata": {},
   "source": [
    "\n",
    "extra from regression notebook, add if required:\n",
    "\n",
    "pairs(longley, main = \"longley data\")\n",
    "summary(fm1 <- lm(Employed ~ ., data = longley))\n",
    "opar <- par(mfrow = c(2, 2), oma = c(0, 0, 1.1, 0),\n",
    "            mar = c(4.1, 4.1, 2.1, 1.1))\n",
    "plot(fm1)\n",
    "par(opar)"
   ]
  },
  {
   "cell_type": "markdown",
   "metadata": {},
   "source": [
    "It is a special case of general linear models, restricted to one dependent variable"
   ]
  },
  {
   "cell_type": "code",
   "execution_count": null,
   "metadata": {},
   "outputs": [],
   "source": []
  }
 ],
 "metadata": {
  "kernelspec": {
   "display_name": "R",
   "language": "R",
   "name": "ir"
  },
  "language_info": {
   "codemirror_mode": "r",
   "file_extension": ".r",
   "mimetype": "text/x-r-source",
   "name": "R",
   "pygments_lexer": "r",
   "version": "3.6.1"
  }
 },
 "nbformat": 4,
 "nbformat_minor": 4
}
